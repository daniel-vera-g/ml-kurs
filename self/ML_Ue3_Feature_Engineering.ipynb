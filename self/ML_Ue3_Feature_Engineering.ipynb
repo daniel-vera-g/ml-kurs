{
 "cells": [
  {
   "cell_type": "code",
   "execution_count": null,
   "metadata": {},
   "outputs": [],
   "source": [
    "import pandas as pf\n",
    "import numpy as np\n",
    "# Create dataframe from table\n",
    "table = {\n",
    "    'Weekday': ['Monday', 'Tuesday', 'Monday', np.nan, 'Wednesday', 'Sunday', 'Thursday', 'Friday', 'Saturday'],\n",
    "    'Temperature': [23, np.nan, 20, 21, 17, 15, 10, 20, np.nan],\n",
    "    'Humidity': [30, 40, np.nan, 100],\n",
    "    'Sunny': [],\n",
    "}"
   ]
  }
 ],
 "metadata": {
  "kernelspec": {
   "display_name": "Python 3",
   "language": "python",
   "name": "python3"
  },
  "language_info": {
   "codemirror_mode": {
    "name": "ipython",
    "version": 3
   },
   "file_extension": ".py",
   "mimetype": "text/x-python",
   "name": "python",
   "nbconvert_exporter": "python",
   "pygments_lexer": "ipython3",
   "version": "3.8.5"
  }
 },
 "nbformat": 4,
 "nbformat_minor": 4
}

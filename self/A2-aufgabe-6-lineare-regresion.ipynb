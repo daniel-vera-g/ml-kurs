{
 "cells": [
  {
   "cell_type": "markdown",
   "metadata": {},
   "source": [
    "### Laden des Advertising-Datensatzes"
   ]
  },
  {
   "cell_type": "markdown",
   "metadata": {},
   "source": [
    "Zuerst laden wird die Daten aus der csv-Datei `advertising.csv` in einen Pandas Dataframe. Um den Inhalt zu prüfen,  schauen wir uns die ersten paar Zeilen mit Hilfe der `head` Funktion an."
   ]
  },
  {
   "cell_type": "code",
   "execution_count": 1,
   "metadata": {},
   "outputs": [
    {
     "data": {
      "text/html": [
       "<div>\n",
       "<style scoped>\n",
       "    .dataframe tbody tr th:only-of-type {\n",
       "        vertical-align: middle;\n",
       "    }\n",
       "\n",
       "    .dataframe tbody tr th {\n",
       "        vertical-align: top;\n",
       "    }\n",
       "\n",
       "    .dataframe thead th {\n",
       "        text-align: right;\n",
       "    }\n",
       "</style>\n",
       "<table border=\"1\" class=\"dataframe\">\n",
       "  <thead>\n",
       "    <tr style=\"text-align: right;\">\n",
       "      <th></th>\n",
       "      <th>index</th>\n",
       "      <th>TV</th>\n",
       "      <th>radio</th>\n",
       "      <th>newspaper</th>\n",
       "      <th>sales</th>\n",
       "    </tr>\n",
       "  </thead>\n",
       "  <tbody>\n",
       "    <tr>\n",
       "      <th>0</th>\n",
       "      <td>1</td>\n",
       "      <td>230.1</td>\n",
       "      <td>37.8</td>\n",
       "      <td>69.2</td>\n",
       "      <td>22.1</td>\n",
       "    </tr>\n",
       "    <tr>\n",
       "      <th>1</th>\n",
       "      <td>2</td>\n",
       "      <td>44.5</td>\n",
       "      <td>39.3</td>\n",
       "      <td>45.1</td>\n",
       "      <td>10.4</td>\n",
       "    </tr>\n",
       "    <tr>\n",
       "      <th>2</th>\n",
       "      <td>3</td>\n",
       "      <td>17.2</td>\n",
       "      <td>45.9</td>\n",
       "      <td>69.3</td>\n",
       "      <td>9.3</td>\n",
       "    </tr>\n",
       "    <tr>\n",
       "      <th>3</th>\n",
       "      <td>4</td>\n",
       "      <td>151.5</td>\n",
       "      <td>41.3</td>\n",
       "      <td>58.5</td>\n",
       "      <td>18.5</td>\n",
       "    </tr>\n",
       "    <tr>\n",
       "      <th>4</th>\n",
       "      <td>5</td>\n",
       "      <td>180.8</td>\n",
       "      <td>10.8</td>\n",
       "      <td>58.4</td>\n",
       "      <td>12.9</td>\n",
       "    </tr>\n",
       "  </tbody>\n",
       "</table>\n",
       "</div>"
      ],
      "text/plain": [
       "   index     TV  radio  newspaper  sales\n",
       "0      1  230.1   37.8       69.2   22.1\n",
       "1      2   44.5   39.3       45.1   10.4\n",
       "2      3   17.2   45.9       69.3    9.3\n",
       "3      4  151.5   41.3       58.5   18.5\n",
       "4      5  180.8   10.8       58.4   12.9"
      ]
     },
     "execution_count": 1,
     "metadata": {},
     "output_type": "execute_result"
    }
   ],
   "source": [
    "import pandas as pd\n",
    "data_raw = pd.read_csv(\"../advertising.csv\")\n",
    "data_raw.head()"
   ]
  },
  {
   "cell_type": "markdown",
   "metadata": {},
   "source": [
    "### Training der linearen Regression"
   ]
  },
  {
   "cell_type": "markdown",
   "metadata": {},
   "source": [
    "Bevor wir mit dem Training beginnen, unterteilten wir die verfügbaren Daten in Trainings- und Testdaten, wobei die Trainingsdaten 80% der ursprünglichen Daten beinhalten sollen und die Testdaten 20%."
   ]
  },
  {
   "cell_type": "code",
   "execution_count": 2,
   "metadata": {},
   "outputs": [
    {
     "name": "stdout",
     "output_type": "stream",
     "text": [
      "Trainingsdaten\n",
      "(160, 4)\n",
      "Testdaten\n",
      "(40, 4)\n"
     ]
    }
   ],
   "source": [
    "data = data_raw.drop(columns=['index'])\n",
    "data.head()\n",
    "\n",
    "train_data = data.sample(frac=0.8, random_state=0)\n",
    "test_data = data.drop(train_data.index) # Remove all data in the index column\n",
    "\n",
    "print('Trainingsdaten')\n",
    "print(train_data.shape)\n",
    "print('Testdaten')\n",
    "print(test_data.shape)"
   ]
  },
  {
   "cell_type": "markdown",
   "metadata": {},
   "source": [
    "Anschließend trainieren wir auf den Trainingsdaten eine lineare Regression mit dem Feature `TV`, `radio`, `newspaper` und dem Label `sales`."
   ]
  },
  {
   "cell_type": "code",
   "execution_count": 3,
   "metadata": {},
   "outputs": [
    {
     "data": {
      "text/plain": [
       "LinearRegression()"
      ]
     },
     "execution_count": 3,
     "metadata": {},
     "output_type": "execute_result"
    }
   ],
   "source": [
    "from sklearn.linear_model import LinearRegression\n",
    "\n",
    "# Train TV feature on label sales\n",
    "x_train_tv = train_data['TV'].values.reshape(-1,1) # notwendig wenn nur ein Feature vorhanden ist\n",
    "y_train_tv = train_data['sales']\n",
    "reg_tv = LinearRegression()\n",
    "reg_tv.fit(x_train_tv, y_train_tv) # Praxis aus der Vorlesung\n",
    "\n",
    "# Train Radio feature on label sales\n",
    "x_train_radio = train_data['radio'].values.reshape(-1,1) # notwendig wenn nur ein Feature vorhanden ist\n",
    "y_train_radio = train_data['sales']\n",
    "reg_radio = LinearRegression()\n",
    "reg_radio.fit(x_train_radio, y_train_radio) # Praxis aus der Vorlesung\n",
    "\n",
    "# Train newspaper feature on label sales\n",
    "x_train_newspaper = train_data['newspaper'].values.reshape(-1,1) # notwendig wenn nur ein Feature vorhanden ist\n",
    "y_train_newspaper = train_data['sales']\n",
    "reg_newspaper = LinearRegression()\n",
    "reg_newspaper.fit(x_train_newspaper, y_train_newspaper) # Praxis aus der Vorlesung"
   ]
  },
  {
   "cell_type": "markdown",
   "metadata": {},
   "source": [
    "### Testen des Regressionsmodells"
   ]
  },
  {
   "cell_type": "markdown",
   "metadata": {},
   "source": [
    "Um die Qualität des trainierte Regressionsmodells zu überprüfen, machen wir damit Vorhersagen auf den Testdaten und messen den MSE."
   ]
  },
  {
   "cell_type": "code",
   "execution_count": 4,
   "metadata": {},
   "outputs": [
    {
     "name": "stdout",
     "output_type": "stream",
     "text": [
      "Mean squared error (MSE) auf die TV Trainingsdaten: 14.41037265386388\n",
      "Mean squared error (MSE) auf die radio Trainingsdaten: 14.678657098022956\n",
      "Mean squared error (MSE) auf die newspaper Trainingsdaten: 25.543312576681807\n",
      "Best MSE value: 14.41037265386388\n"
     ]
    }
   ],
   "source": [
    "from sklearn.metrics import mean_squared_error\n",
    "\n",
    "# MSE auf TV Trainingsdaten\n",
    "x_test_tv = test_data['TV'].values.reshape(-1,1)\n",
    "y_test_tv = test_data['sales']\n",
    "tv_prediction_test = reg_tv.predict(x_test_tv)\n",
    "tv_mse_test =  mean_squared_error(y_test_tv, tv_prediction_test)\n",
    "print(f\"Mean squared error (MSE) auf die TV Trainingsdaten: {tv_mse_test}\")\n",
    "\n",
    "# MSE auf TV Trainingsdaten\n",
    "x_test_radio = test_data['radio'].values.reshape(-1,1)\n",
    "y_test_radio = test_data['sales']\n",
    "radio_prediction_test = reg_radio.predict(x_test_radio)\n",
    "radio_mse_test =  mean_squared_error(y_test_radio, radio_prediction_test)\n",
    "print(f\"Mean squared error (MSE) auf die radio Trainingsdaten: {radio_mse_test}\")\n",
    "\n",
    "# MSE auf TV Trainingsdaten\n",
    "x_test_newspaper = test_data['newspaper'].values.reshape(-1,1)\n",
    "y_test_newspaper = test_data['sales']\n",
    "newspaper_prediction_test = reg_newspaper.predict(x_test_newspaper)\n",
    "newspaper_mse_test =  mean_squared_error(y_test_newspaper, newspaper_prediction_test)\n",
    "print(f\"Mean squared error (MSE) auf die newspaper Trainingsdaten: {newspaper_mse_test}\")\n",
    "print(f\"Best MSE value: {min([tv_mse_test, radio_mse_test, newspaper_mse_test])}\")"
   ]
  }
 ],
 "metadata": {
  "kernelspec": {
   "display_name": "Python 3",
   "language": "python",
   "name": "python3"
  },
  "language_info": {
   "codemirror_mode": {
    "name": "ipython",
    "version": 3
   },
   "file_extension": ".py",
   "mimetype": "text/x-python",
   "name": "python",
   "nbconvert_exporter": "python",
   "pygments_lexer": "ipython3",
   "version": "3.8.3"
  }
 },
 "nbformat": 4,
 "nbformat_minor": 2
}
